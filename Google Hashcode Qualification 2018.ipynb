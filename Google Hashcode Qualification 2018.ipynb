{
  "nbformat": 4,
  "nbformat_minor": 0,
  "metadata": {
    "colab": {
      "name": "Nichita.ipynb",
      "version": "0.3.2",
      "views": {},
      "default_view": {},
      "provenance": [],
      "collapsed_sections": []
    },
    "kernelspec": {
      "name": "python3",
      "display_name": "Python 3"
    }
  },
  "cells": [
    {
      "metadata": {
        "id": "YeG_iFQZkLHR",
        "colab_type": "text"
      },
      "cell_type": "markdown",
      "source": [
        "# HASHCODE 2018 Qualification\n",
        "## Self-driving rides\n",
        "https://hashcode.withgoogle.com/past_editions.html <br>\n",
        "Team: Cool Shenanigans <br>\n",
        "21 milion points in the qualification round due to a minor bug... :( <br>\n",
        "45 milion points in the extended qualification round ( where we fixed the bug, hoorraaay)\n",
        "\n",
        "We worken in a Collaboratory notebook, also prvided by Google.\n",
        "\n",
        "In our method we sorted the rides in order of their earliest start time. And then one by one we assigned the rides to the cars in the following way: <br>\n",
        "-For each ride:\n",
        "* If we can deliver in time\n",
        "* * If we can take the bonus, then assign the ride to the car that is the closest to the ride start and can take the bonus and deliver in time\n",
        "* * Else we cannot take the bonus, then assign ithe ride to the car that is the closest to the ride start and can deliver in time\n",
        "* Else skip the ride"
      ]
    },
    {
      "metadata": {
        "id": "Cg-nulZBjWPw",
        "colab_type": "code",
        "colab": {
          "autoexec": {
            "startup": false,
            "wait_interval": 0
          }
        }
      },
      "cell_type": "code",
      "source": [
        "#importing data rom google sheets\n",
        "!pip install --upgrade -q gspread\n",
        "!pip install -U -q PyDrive"
      ],
      "execution_count": 0,
      "outputs": []
    },
    {
      "metadata": {
        "id": "4ZGsvD7RpY2K",
        "colab_type": "code",
        "colab": {
          "autoexec": {
            "startup": false,
            "wait_interval": 0
          }
        }
      },
      "cell_type": "code",
      "source": [
        "# Install the PyDrive wrapper & import libraries.\n",
        "# This only needs to be done once per notebook.\n",
        "from pydrive.auth import GoogleAuth\n",
        "from pydrive.drive import GoogleDrive\n",
        "from google.colab import auth\n",
        "from oauth2client.client import GoogleCredentials\n",
        "\n",
        "# Authenticate and create the PyDrive client.\n",
        "# This only needs to be done once per notebook.\n",
        "auth.authenticate_user()\n",
        "gauth = GoogleAuth()\n",
        "gauth.credentials = GoogleCredentials.get_application_default()\n",
        "drive = GoogleDrive(gauth)\n",
        "\n",
        "# List .txt files in the root.\n",
        "#\n",
        "# Search query reference:\n",
        "# https://developers.google.com/drive/v2/web/search-parameters\n",
        "\n",
        "#ListFile({'q': \"title contains '.txt' and 'root' in parents\"})\n",
        "listed = drive.ListFile({'q': \"title contains '.in' and 'root' in parents\"}).GetList()\n",
        "\n",
        "files_names = ['a_example.in', 'b_should_be_easy.in', 'c_no_hurry.in', 'd_metropolis.in', 'e_high_bonus.in']\n",
        "files_ids = [0, 0, 0, 0, 0]\n",
        "for file in listed:\n",
        "    if files_names[0] in file['title']:\n",
        "        files_ids[0] = file['id']\n",
        "    elif files_names[1] in file['title']:\n",
        "        files_ids[1] = file['id']\n",
        "    elif files_names[2] in file['title']:\n",
        "        files_ids[2] = file['id']\n",
        "    elif files_names[3] in file['title']:\n",
        "        files_ids[3] = file['id']\n",
        "    elif files_names[4] in file['title']:\n",
        "        files_ids[4] = file['id']"
      ],
      "execution_count": 0,
      "outputs": []
    },
    {
      "metadata": {
        "id": "qA2L0DM3pc0J",
        "colab_type": "code",
        "colab": {
          "autoexec": {
            "startup": false,
            "wait_interval": 0
          },
          "output_extras": [
            {
              "item_id": 6
            }
          ],
          "base_uri": "https://localhost:8080/",
          "height": 207
        },
        "outputId": "424f8ae7-fe28-492b-981e-4e0a58c2b193",
        "executionInfo": {
          "status": "ok",
          "timestamp": 1520679109347,
          "user_tz": -60,
          "elapsed": 4537,
          "user": {
            "displayName": "Nichita Diaconu",
            "photoUrl": "//lh4.googleusercontent.com/-L_14SnBPff8/AAAAAAAAAAI/AAAAAAAABU4/ZCpNHv6ApOg/s50-c-k-no/photo.jpg",
            "userId": "108913819228217065637"
          }
        }
      },
      "cell_type": "code",
      "source": [
        "files_local_names = ['InputA.txt', 'InputB.txt', 'InputC.txt', 'InputD.txt', 'InputE.txt']\n",
        "for idx,file_id in enumerate(files_ids):\n",
        "  file3 = drive.CreateFile({'id': file_id})\n",
        "  print('Downloading file %s from Google Drive' % file3['title']) # 'YandexRelPredChallenge.txt.png'\n",
        "  file3.GetContentFile(files_local_names[idx])  # Save Drive file as a local file\n",
        "  print(file3)"
      ],
      "execution_count": 3,
      "outputs": [
        {
          "output_type": "stream",
          "text": [
            "Downloading file a_example.in from Google Drive\n",
            "GoogleDriveFile({'id': '16IZrQKtk0ayTk5z6Pe2sGfIClNbQUk_O', 'kind': 'drive#file', 'etag': '\"z_YVnINIY56ukYDqXpOL80gtv44/MTUxOTkyNjU2NTE0MA\"', 'selfLink': 'https://www.googleapis.com/drive/v2/files/16IZrQKtk0ayTk5z6Pe2sGfIClNbQUk_O', 'webContentLink': 'https://drive.google.com/uc?id=16IZrQKtk0ayTk5z6Pe2sGfIClNbQUk_O&export=download', 'alternateLink': 'https://drive.google.com/file/d/16IZrQKtk0ayTk5z6Pe2sGfIClNbQUk_O/view?usp=drivesdk', 'embedLink': 'https://drive.google.com/file/d/16IZrQKtk0ayTk5z6Pe2sGfIClNbQUk_O/preview?usp=drivesdk', 'iconLink': 'https://drive-thirdparty.googleusercontent.com/16/type/application/octet-stream', 'title': 'a_example.in', 'mimeType': 'application/octet-stream', 'labels': {'starred': False, 'hidden': False, 'trashed': False, 'restricted': False, 'viewed': True}, 'createdDate': '2018-03-01T17:49:25.140Z', 'modifiedDate': '2018-03-01T17:49:25.140Z', 'modifiedByMeDate': '2018-03-01T17:49:25.140Z', 'lastViewedByMeDate': '2018-03-01T17:49:25.140Z', 'markedViewedByMeDate': '1970-01-01T00:00:00.000Z', 'version': '2', 'parents': [{'kind': 'drive#parentReference', 'id': '0AOhOxlIBMf_GUk9PVA', 'selfLink': 'https://www.googleapis.com/drive/v2/files/16IZrQKtk0ayTk5z6Pe2sGfIClNbQUk_O/parents/0AOhOxlIBMf_GUk9PVA', 'parentLink': 'https://www.googleapis.com/drive/v2/files/0AOhOxlIBMf_GUk9PVA', 'isRoot': True}], 'downloadUrl': 'https://doc-04-2o-docs.googleusercontent.com/docs/securesc/5rjegq2hid9ijhl5hbrgsah132qdq32m/rkiur5jkhgk3htmnmng2iob4hi3ucg4s/1520676000000/16499455889017140850/16499455889017140850/16IZrQKtk0ayTk5z6Pe2sGfIClNbQUk_O?e=download&gd=true', 'userPermission': {'kind': 'drive#permission', 'etag': '\"z_YVnINIY56ukYDqXpOL80gtv44/wxj6_Xs1Kefd-7S5DKS8g0b6BQQ\"', 'id': 'me', 'selfLink': 'https://www.googleapis.com/drive/v2/files/16IZrQKtk0ayTk5z6Pe2sGfIClNbQUk_O/permissions/me', 'role': 'owner', 'type': 'user'}, 'originalFilename': 'a_example.in', 'fileExtension': 'in', 'md5Checksum': 'd43c0ecd7b14e0a0261fda8a6fa23c84', 'fileSize': '49', 'quotaBytesUsed': '49', 'ownerNames': ['Nichita Diaconu'], 'owners': [{'kind': 'drive#user', 'displayName': 'Nichita Diaconu', 'picture': {'url': 'https://lh4.googleusercontent.com/-L_14SnBPff8/AAAAAAAAAAI/AAAAAAAABU4/ZCpNHv6ApOg/s64/photo.jpg'}, 'isAuthenticatedUser': True, 'permissionId': '16499455889017140850', 'emailAddress': 'diacon995@gmail.com'}], 'lastModifyingUserName': 'Nichita Diaconu', 'lastModifyingUser': {'kind': 'drive#user', 'displayName': 'Nichita Diaconu', 'picture': {'url': 'https://lh4.googleusercontent.com/-L_14SnBPff8/AAAAAAAAAAI/AAAAAAAABU4/ZCpNHv6ApOg/s64/photo.jpg'}, 'isAuthenticatedUser': True, 'permissionId': '16499455889017140850', 'emailAddress': 'diacon995@gmail.com'}, 'capabilities': {'canCopy': True, 'canEdit': True}, 'editable': True, 'copyable': True, 'writersCanShare': True, 'shared': False, 'explicitlyTrashed': False, 'appDataContents': False, 'headRevisionId': '0B-hOxlIBMf_GaUNtWk9qNTlvRDQ1N3hScVlXa0xJc1lTalBNPQ', 'spaces': ['drive']})\n",
            "Downloading file b_should_be_easy.in from Google Drive\n",
            "GoogleDriveFile({'id': '1P4BrFXootonXI6zv-2fRw3oTcdEuTSsS', 'kind': 'drive#file', 'etag': '\"z_YVnINIY56ukYDqXpOL80gtv44/MTUxOTkyNjYwMjA0OA\"', 'selfLink': 'https://www.googleapis.com/drive/v2/files/1P4BrFXootonXI6zv-2fRw3oTcdEuTSsS', 'webContentLink': 'https://drive.google.com/uc?id=1P4BrFXootonXI6zv-2fRw3oTcdEuTSsS&export=download', 'alternateLink': 'https://drive.google.com/file/d/1P4BrFXootonXI6zv-2fRw3oTcdEuTSsS/view?usp=drivesdk', 'embedLink': 'https://drive.google.com/file/d/1P4BrFXootonXI6zv-2fRw3oTcdEuTSsS/preview?usp=drivesdk', 'iconLink': 'https://drive-thirdparty.googleusercontent.com/16/type/application/octet-stream', 'title': 'b_should_be_easy.in', 'mimeType': 'application/octet-stream', 'labels': {'starred': False, 'hidden': False, 'trashed': False, 'restricted': False, 'viewed': True}, 'createdDate': '2018-03-01T17:50:02.048Z', 'modifiedDate': '2018-03-01T17:50:02.048Z', 'modifiedByMeDate': '2018-03-01T17:50:02.048Z', 'lastViewedByMeDate': '2018-03-01T17:50:02.048Z', 'markedViewedByMeDate': '1970-01-01T00:00:00.000Z', 'version': '2', 'parents': [{'kind': 'drive#parentReference', 'id': '0AOhOxlIBMf_GUk9PVA', 'selfLink': 'https://www.googleapis.com/drive/v2/files/1P4BrFXootonXI6zv-2fRw3oTcdEuTSsS/parents/0AOhOxlIBMf_GUk9PVA', 'parentLink': 'https://www.googleapis.com/drive/v2/files/0AOhOxlIBMf_GUk9PVA', 'isRoot': True}], 'downloadUrl': 'https://doc-0c-2o-docs.googleusercontent.com/docs/securesc/5rjegq2hid9ijhl5hbrgsah132qdq32m/05sj9bj4pdf9hic4q39pe1iqkjc4mvda/1520676000000/16499455889017140850/16499455889017140850/1P4BrFXootonXI6zv-2fRw3oTcdEuTSsS?e=download&gd=true', 'userPermission': {'kind': 'drive#permission', 'etag': '\"z_YVnINIY56ukYDqXpOL80gtv44/3zHJdNLyDFbbeo7491wZjLOtuaE\"', 'id': 'me', 'selfLink': 'https://www.googleapis.com/drive/v2/files/1P4BrFXootonXI6zv-2fRw3oTcdEuTSsS/permissions/me', 'role': 'owner', 'type': 'user'}, 'originalFilename': 'b_should_be_easy.in', 'fileExtension': 'in', 'md5Checksum': 'a77006c722fa171c686153bf475d0b16', 'fileSize': '8063', 'quotaBytesUsed': '8063', 'ownerNames': ['Nichita Diaconu'], 'owners': [{'kind': 'drive#user', 'displayName': 'Nichita Diaconu', 'picture': {'url': 'https://lh4.googleusercontent.com/-L_14SnBPff8/AAAAAAAAAAI/AAAAAAAABU4/ZCpNHv6ApOg/s64/photo.jpg'}, 'isAuthenticatedUser': True, 'permissionId': '16499455889017140850', 'emailAddress': 'diacon995@gmail.com'}], 'lastModifyingUserName': 'Nichita Diaconu', 'lastModifyingUser': {'kind': 'drive#user', 'displayName': 'Nichita Diaconu', 'picture': {'url': 'https://lh4.googleusercontent.com/-L_14SnBPff8/AAAAAAAAAAI/AAAAAAAABU4/ZCpNHv6ApOg/s64/photo.jpg'}, 'isAuthenticatedUser': True, 'permissionId': '16499455889017140850', 'emailAddress': 'diacon995@gmail.com'}, 'capabilities': {'canCopy': True, 'canEdit': True}, 'editable': True, 'copyable': True, 'writersCanShare': True, 'shared': False, 'explicitlyTrashed': False, 'appDataContents': False, 'headRevisionId': '0B-hOxlIBMf_GQ0pLR1IzTnN1aGYrOXpnQW53MFNtVWQvOHVjPQ', 'spaces': ['drive']})\n",
            "Downloading file c_no_hurry.in from Google Drive\n",
            "GoogleDriveFile({'id': '1K47qt2a5dPJwJOC8KHMEA5LIK-sqzlV5', 'kind': 'drive#file', 'etag': '\"z_YVnINIY56ukYDqXpOL80gtv44/MTUxOTkyNjU5OTg0Nw\"', 'selfLink': 'https://www.googleapis.com/drive/v2/files/1K47qt2a5dPJwJOC8KHMEA5LIK-sqzlV5', 'webContentLink': 'https://drive.google.com/uc?id=1K47qt2a5dPJwJOC8KHMEA5LIK-sqzlV5&export=download', 'alternateLink': 'https://drive.google.com/file/d/1K47qt2a5dPJwJOC8KHMEA5LIK-sqzlV5/view?usp=drivesdk', 'embedLink': 'https://drive.google.com/file/d/1K47qt2a5dPJwJOC8KHMEA5LIK-sqzlV5/preview?usp=drivesdk', 'iconLink': 'https://drive-thirdparty.googleusercontent.com/16/type/application/octet-stream', 'title': 'c_no_hurry.in', 'mimeType': 'application/octet-stream', 'labels': {'starred': False, 'hidden': False, 'trashed': False, 'restricted': False, 'viewed': True}, 'createdDate': '2018-03-01T17:49:59.847Z', 'modifiedDate': '2018-03-01T17:49:59.847Z', 'modifiedByMeDate': '2018-03-01T17:49:59.847Z', 'lastViewedByMeDate': '2018-03-01T17:49:59.847Z', 'markedViewedByMeDate': '1970-01-01T00:00:00.000Z', 'version': '2', 'parents': [{'kind': 'drive#parentReference', 'id': '0AOhOxlIBMf_GUk9PVA', 'selfLink': 'https://www.googleapis.com/drive/v2/files/1K47qt2a5dPJwJOC8KHMEA5LIK-sqzlV5/parents/0AOhOxlIBMf_GUk9PVA', 'parentLink': 'https://www.googleapis.com/drive/v2/files/0AOhOxlIBMf_GUk9PVA', 'isRoot': True}], 'downloadUrl': 'https://doc-0c-2o-docs.googleusercontent.com/docs/securesc/5rjegq2hid9ijhl5hbrgsah132qdq32m/stu2umkrvp1n4pjs578npj6ttg5kgqej/1520676000000/16499455889017140850/16499455889017140850/1K47qt2a5dPJwJOC8KHMEA5LIK-sqzlV5?e=download&gd=true', 'userPermission': {'kind': 'drive#permission', 'etag': '\"z_YVnINIY56ukYDqXpOL80gtv44/Pm4NZi_qsdkX16sTJxjGleUE3iI\"', 'id': 'me', 'selfLink': 'https://www.googleapis.com/drive/v2/files/1K47qt2a5dPJwJOC8KHMEA5LIK-sqzlV5/permissions/me', 'role': 'owner', 'type': 'user'}, 'originalFilename': 'c_no_hurry.in', 'fileExtension': 'in', 'md5Checksum': '345953d0e69e39ace7ba4f1a2525e3ec', 'fileSize': '271595', 'quotaBytesUsed': '271595', 'ownerNames': ['Nichita Diaconu'], 'owners': [{'kind': 'drive#user', 'displayName': 'Nichita Diaconu', 'picture': {'url': 'https://lh4.googleusercontent.com/-L_14SnBPff8/AAAAAAAAAAI/AAAAAAAABU4/ZCpNHv6ApOg/s64/photo.jpg'}, 'isAuthenticatedUser': True, 'permissionId': '16499455889017140850', 'emailAddress': 'diacon995@gmail.com'}], 'lastModifyingUserName': 'Nichita Diaconu', 'lastModifyingUser': {'kind': 'drive#user', 'displayName': 'Nichita Diaconu', 'picture': {'url': 'https://lh4.googleusercontent.com/-L_14SnBPff8/AAAAAAAAAAI/AAAAAAAABU4/ZCpNHv6ApOg/s64/photo.jpg'}, 'isAuthenticatedUser': True, 'permissionId': '16499455889017140850', 'emailAddress': 'diacon995@gmail.com'}, 'capabilities': {'canCopy': True, 'canEdit': True}, 'editable': True, 'copyable': True, 'writersCanShare': True, 'shared': False, 'explicitlyTrashed': False, 'appDataContents': False, 'headRevisionId': '0B-hOxlIBMf_GakJHUVBlNGFHM205aEFGMWRoTVJkdmV5Y2JrPQ', 'spaces': ['drive']})\n",
            "Downloading file d_metropolis.in from Google Drive\n",
            "GoogleDriveFile({'id': '1HZpCB_y6fNV4qHp_93-1Natd5VcqQLg4', 'kind': 'drive#file', 'etag': '\"z_YVnINIY56ukYDqXpOL80gtv44/MTUxOTkzNjE5MzcxMQ\"', 'selfLink': 'https://www.googleapis.com/drive/v2/files/1HZpCB_y6fNV4qHp_93-1Natd5VcqQLg4', 'webContentLink': 'https://drive.google.com/uc?id=1HZpCB_y6fNV4qHp_93-1Natd5VcqQLg4&export=download', 'alternateLink': 'https://drive.google.com/file/d/1HZpCB_y6fNV4qHp_93-1Natd5VcqQLg4/view?usp=drivesdk', 'embedLink': 'https://drive.google.com/file/d/1HZpCB_y6fNV4qHp_93-1Natd5VcqQLg4/preview?usp=drivesdk', 'iconLink': 'https://drive-thirdparty.googleusercontent.com/16/type/application/octet-stream', 'title': 'd_metropolis.in', 'mimeType': 'application/octet-stream', 'labels': {'starred': False, 'hidden': False, 'trashed': False, 'restricted': False, 'viewed': True}, 'createdDate': '2018-03-01T20:29:53.711Z', 'modifiedDate': '2018-03-01T20:29:53.711Z', 'modifiedByMeDate': '2018-03-01T20:29:53.711Z', 'lastViewedByMeDate': '2018-03-01T20:29:53.711Z', 'markedViewedByMeDate': '1970-01-01T00:00:00.000Z', 'version': '2', 'parents': [{'kind': 'drive#parentReference', 'id': '0AOhOxlIBMf_GUk9PVA', 'selfLink': 'https://www.googleapis.com/drive/v2/files/1HZpCB_y6fNV4qHp_93-1Natd5VcqQLg4/parents/0AOhOxlIBMf_GUk9PVA', 'parentLink': 'https://www.googleapis.com/drive/v2/files/0AOhOxlIBMf_GUk9PVA', 'isRoot': True}], 'downloadUrl': 'https://doc-10-2o-docs.googleusercontent.com/docs/securesc/5rjegq2hid9ijhl5hbrgsah132qdq32m/li2ohtbpi0nbku7u98mkftpjgmohnsue/1520676000000/16499455889017140850/16499455889017140850/1HZpCB_y6fNV4qHp_93-1Natd5VcqQLg4?e=download&gd=true', 'userPermission': {'kind': 'drive#permission', 'etag': '\"z_YVnINIY56ukYDqXpOL80gtv44/IjW_dCusMBU81Ff4Fp8lX5hQg0k\"', 'id': 'me', 'selfLink': 'https://www.googleapis.com/drive/v2/files/1HZpCB_y6fNV4qHp_93-1Natd5VcqQLg4/permissions/me', 'role': 'owner', 'type': 'user'}, 'originalFilename': 'd_metropolis.in', 'fileExtension': 'in', 'md5Checksum': '40015de71c4cf4556893d69c12988ea1', 'fileSize': '309593', 'quotaBytesUsed': '309593', 'ownerNames': ['Nichita Diaconu'], 'owners': [{'kind': 'drive#user', 'displayName': 'Nichita Diaconu', 'picture': {'url': 'https://lh4.googleusercontent.com/-L_14SnBPff8/AAAAAAAAAAI/AAAAAAAABU4/ZCpNHv6ApOg/s64/photo.jpg'}, 'isAuthenticatedUser': True, 'permissionId': '16499455889017140850', 'emailAddress': 'diacon995@gmail.com'}], 'lastModifyingUserName': 'Nichita Diaconu', 'lastModifyingUser': {'kind': 'drive#user', 'displayName': 'Nichita Diaconu', 'picture': {'url': 'https://lh4.googleusercontent.com/-L_14SnBPff8/AAAAAAAAAAI/AAAAAAAABU4/ZCpNHv6ApOg/s64/photo.jpg'}, 'isAuthenticatedUser': True, 'permissionId': '16499455889017140850', 'emailAddress': 'diacon995@gmail.com'}, 'capabilities': {'canCopy': True, 'canEdit': True}, 'editable': True, 'copyable': True, 'writersCanShare': True, 'shared': False, 'explicitlyTrashed': False, 'appDataContents': False, 'headRevisionId': '0B-hOxlIBMf_Gdkl1dGpHZnIxMDA1WG5PTWtHZmJXME4vUUxzPQ', 'spaces': ['drive']})\n",
            "Downloading file e_high_bonus.in from Google Drive\n",
            "GoogleDriveFile({'id': '18Vl3GMKf3hR-W96l4ZQ2KGisWHBpHf1n', 'kind': 'drive#file', 'etag': '\"z_YVnINIY56ukYDqXpOL80gtv44/MTUxOTkzNjE5NTI5OA\"', 'selfLink': 'https://www.googleapis.com/drive/v2/files/18Vl3GMKf3hR-W96l4ZQ2KGisWHBpHf1n', 'webContentLink': 'https://drive.google.com/uc?id=18Vl3GMKf3hR-W96l4ZQ2KGisWHBpHf1n&export=download', 'alternateLink': 'https://drive.google.com/file/d/18Vl3GMKf3hR-W96l4ZQ2KGisWHBpHf1n/view?usp=drivesdk', 'embedLink': 'https://drive.google.com/file/d/18Vl3GMKf3hR-W96l4ZQ2KGisWHBpHf1n/preview?usp=drivesdk', 'iconLink': 'https://drive-thirdparty.googleusercontent.com/16/type/application/octet-stream', 'title': 'e_high_bonus.in', 'mimeType': 'application/octet-stream', 'labels': {'starred': False, 'hidden': False, 'trashed': False, 'restricted': False, 'viewed': True}, 'createdDate': '2018-03-01T20:29:55.298Z', 'modifiedDate': '2018-03-01T20:29:55.298Z', 'modifiedByMeDate': '2018-03-01T20:29:55.298Z', 'lastViewedByMeDate': '2018-03-01T20:29:55.298Z', 'markedViewedByMeDate': '1970-01-01T00:00:00.000Z', 'version': '2', 'parents': [{'kind': 'drive#parentReference', 'id': '0AOhOxlIBMf_GUk9PVA', 'selfLink': 'https://www.googleapis.com/drive/v2/files/18Vl3GMKf3hR-W96l4ZQ2KGisWHBpHf1n/parents/0AOhOxlIBMf_GUk9PVA', 'parentLink': 'https://www.googleapis.com/drive/v2/files/0AOhOxlIBMf_GUk9PVA', 'isRoot': True}], 'downloadUrl': 'https://doc-0o-2o-docs.googleusercontent.com/docs/securesc/5rjegq2hid9ijhl5hbrgsah132qdq32m/l2s7buefefqpcqon9f1ttlse4inu4fbd/1520676000000/16499455889017140850/16499455889017140850/18Vl3GMKf3hR-W96l4ZQ2KGisWHBpHf1n?e=download&gd=true', 'userPermission': {'kind': 'drive#permission', 'etag': '\"z_YVnINIY56ukYDqXpOL80gtv44/wropRGh5F79zaT60IbGsNqX8oMI\"', 'id': 'me', 'selfLink': 'https://www.googleapis.com/drive/v2/files/18Vl3GMKf3hR-W96l4ZQ2KGisWHBpHf1n/permissions/me', 'role': 'owner', 'type': 'user'}, 'originalFilename': 'e_high_bonus.in', 'fileExtension': 'in', 'md5Checksum': '0585db5d48f998142965a73148f63a3c', 'fileSize': '300088', 'quotaBytesUsed': '300088', 'ownerNames': ['Nichita Diaconu'], 'owners': [{'kind': 'drive#user', 'displayName': 'Nichita Diaconu', 'picture': {'url': 'https://lh4.googleusercontent.com/-L_14SnBPff8/AAAAAAAAAAI/AAAAAAAABU4/ZCpNHv6ApOg/s64/photo.jpg'}, 'isAuthenticatedUser': True, 'permissionId': '16499455889017140850', 'emailAddress': 'diacon995@gmail.com'}], 'lastModifyingUserName': 'Nichita Diaconu', 'lastModifyingUser': {'kind': 'drive#user', 'displayName': 'Nichita Diaconu', 'picture': {'url': 'https://lh4.googleusercontent.com/-L_14SnBPff8/AAAAAAAAAAI/AAAAAAAABU4/ZCpNHv6ApOg/s64/photo.jpg'}, 'isAuthenticatedUser': True, 'permissionId': '16499455889017140850', 'emailAddress': 'diacon995@gmail.com'}, 'capabilities': {'canCopy': True, 'canEdit': True}, 'editable': True, 'copyable': True, 'writersCanShare': True, 'shared': False, 'explicitlyTrashed': False, 'appDataContents': False, 'headRevisionId': '0B-hOxlIBMf_GeUlTU1JiRUdQek90YkZmbFdpeC9Jd0YzS0Y0PQ', 'spaces': ['drive']})\n"
          ],
          "name": "stdout"
        }
      ]
    },
    {
      "metadata": {
        "id": "MDl-7Yzppdqe",
        "colab_type": "code",
        "colab": {
          "autoexec": {
            "startup": false,
            "wait_interval": 0
          },
          "output_extras": [
            {
              "item_id": 1
            }
          ],
          "base_uri": "https://localhost:8080/",
          "height": 34
        },
        "outputId": "95838653-c96e-44f5-b391-6cdc2f7bc83f",
        "executionInfo": {
          "status": "ok",
          "timestamp": 1520679120067,
          "user_tz": -60,
          "elapsed": 1296,
          "user": {
            "displayName": "Nichita Diaconu",
            "photoUrl": "//lh4.googleusercontent.com/-L_14SnBPff8/AAAAAAAAAAI/AAAAAAAABU4/ZCpNHv6ApOg/s50-c-k-no/photo.jpg",
            "userId": "108913819228217065637"
          }
        }
      },
      "cell_type": "code",
      "source": [
        "!ls"
      ],
      "execution_count": 4,
      "outputs": [
        {
          "output_type": "stream",
          "text": [
            "datalab  InputA.txt  InputB.txt  InputC.txt  InputD.txt  InputE.txt\r\n"
          ],
          "name": "stdout"
        }
      ]
    },
    {
      "metadata": {
        "id": "fU0suWEbAz-g",
        "colab_type": "code",
        "colab": {
          "autoexec": {
            "startup": false,
            "wait_interval": 0
          }
        }
      },
      "cell_type": "code",
      "source": [
        "class IOObject:\n",
        "  \n",
        "  @staticmethod\n",
        "  def  get_input(file_name):\n",
        "      inputs = get_file_data(file_name)\n",
        "      rows, columns, cars, rides = process_input(inputs)\n",
        "      return rows, columns, cars, rides\n",
        "  \n",
        "  @staticmethod\n",
        "  def get_file_data(file_name):\n",
        "      actions = []\n",
        "      with open(file_name) as fd:\n",
        "          for line in fd:\n",
        "              actions.append(line.strip().split('\\t'))\n",
        "      return actions\n",
        "  \n",
        "  @staticmethod\n",
        "  def process_input(input):\n",
        "    fr = input[0][0].split()\n",
        "    other = input[1:]\n",
        "\n",
        "    R = fr[0] #rows\n",
        "    C = fr[1] #columns\n",
        "    F = fr[2] #number vehicles\n",
        "    N = fr[3] #number rides\n",
        "    B = fr[4] #ride bonuses\n",
        "    T = fr[5] #total time\n",
        "\n",
        "    rides = []\n",
        "    cars = []\n",
        "    counter = 0\n",
        "\n",
        "    idx = 0\n",
        "    for row in other:\n",
        "      row = [int(x) for x in row[0].split()]\n",
        "      start = Coordinate(row[0], row[1])\n",
        "      end = Coordinate(row[2], row[3])\n",
        "      ride = Ride(start, end, row[4], row[5], B, idx)\n",
        "      idx += 1\n",
        "\n",
        "      rides.append(ride)\n",
        "\n",
        "\n",
        "    for i in range(int(F)):\n",
        "      car = Car();\n",
        "      cars.append(car)\n",
        "\n",
        "    return R, C, cars, rides"
      ],
      "execution_count": 0,
      "outputs": []
    },
    {
      "metadata": {
        "id": "vvUtt9THi9Ku",
        "colab_type": "code",
        "colab": {
          "autoexec": {
            "startup": false,
            "wait_interval": 0
          }
        }
      },
      "cell_type": "code",
      "source": [
        "class Ride:\n",
        "    start = None #type: Coordinate\n",
        "    end = None #type: Coordinate\n",
        "    earliestStart = None # int\n",
        "    latestStart = None # int \n",
        "    latestEnd = None # int\n",
        "    bonusPoints = None\n",
        "    duration = None\n",
        "    ride_id = None\n",
        "    \n",
        "    def __init__(self, start, end, earliestStart, latestEnd, bonusPoints, ride_id):\n",
        "        self.start = start\n",
        "        self.end = end\n",
        "        self.earliestStart = earliestStart\n",
        "        self.latestEnd = latestEnd\n",
        "        self.bonusPoints = int(bonusPoints)\n",
        "        self.duration = self.start.calculateDistance(self.end)\n",
        "        \n",
        "        self.latestStart = self.latestEnd - self.duration\n",
        "        \n",
        "        self.ride_id = ride_id\n",
        "   \n",
        "    def __str__(self):\n",
        "        #return 'ride id: '+str(self.ride_id) + ', start: ' + str(self.start) + ', end: ' + str(self.end) + ', earliest start: ' + str(self.earliestStart) + ', latest end: ' + str(self.latestEnd) + ', latest start: ' + str(self.latestStart)\n",
        "        return 'ride id: '+str(self.ride_id) + ', duration: ' + str(self.duration) + ', earliest start: ' + str(self.earliestStart) + ', latest end: ' + str(self.latestEnd) + ', latest start: ' + str(self.latestStart) + ', start: ' + str(self.start) + ', end: ' + str(self.end)"
      ],
      "execution_count": 0,
      "outputs": []
    },
    {
      "metadata": {
        "id": "Z30DAfVk1g-v",
        "colab_type": "code",
        "colab": {
          "autoexec": {
            "startup": false,
            "wait_interval": 0
          }
        }
      },
      "cell_type": "code",
      "source": [
        "class Car:\n",
        "    currentPosition = None #type: Coordinate\n",
        "    assignedRides = None #type: List[int] list of ride_id\n",
        "    freeAtTime = None #type: int ;time when free\n",
        "    \n",
        "    def __init__(self):\n",
        "        self.currentPosition = Coordinate(0, 0)\n",
        "        self.assignedRides = []\n",
        "        self.freeAtTime = 0\n",
        "        \n",
        "    def add_ride(self,ride : Ride):\n",
        "        self.assignedRides.append(ride)\n",
        "        \n",
        "        distance_to = self.calculate_time_to_start(ride.start)\n",
        "        time_of_start = self.freeAtTime\n",
        "        if time_of_start + distance_to <= ride.earliestStart:\n",
        "            start = ride.earliestStart\n",
        "        else:\n",
        "            start = time_of_start + distance_to\n",
        "        self.freeAtTime = start + ride.duration\n",
        "        \n",
        "        self.currentPosition = ride.end\n",
        "        \n",
        "    def calculate_time_to_start(self, start):\n",
        "        return self.currentPosition.calculateDistance(start)\n",
        "      \n",
        "    \n",
        "    def __str__(self):\n",
        "        return 'cur pos: ' + str(self.currentPosition) + ', free@: '+str(self.freeAtTime) + ', assignedRides: ' + \\\n",
        "          str([str(ride) for ride in self.assignedRides])"
      ],
      "execution_count": 0,
      "outputs": []
    },
    {
      "metadata": {
        "id": "86h9Ix381ipb",
        "colab_type": "code",
        "colab": {
          "autoexec": {
            "startup": false,
            "wait_interval": 0
          }
        }
      },
      "cell_type": "code",
      "source": [
        "class Coordinate:\n",
        "    x = None\n",
        "    y = None\n",
        "\n",
        "\n",
        "    def __init__(self, x, y):\n",
        "        self.x = x\n",
        "        self.y = y\n",
        "\n",
        "    def calculateDistance(self, other):\n",
        "        return abs(self.x - other.x) + abs(self.y - other.y)\n",
        "      \n",
        "    def __str__(self):\n",
        "        return '('+str(self.x)+','+str(self.y)+')'"
      ],
      "execution_count": 0,
      "outputs": []
    },
    {
      "metadata": {
        "id": "Js8Ic2m77ET4",
        "colab_type": "code",
        "colab": {
          "autoexec": {
            "startup": false,
            "wait_interval": 0
          },
          "output_extras": [
            {
              "item_id": 1
            }
          ],
          "base_uri": "https://localhost:8080/",
          "height": 34
        },
        "outputId": "54da4087-ebfd-4f50-b663-4974b12b2ab9",
        "executionInfo": {
          "status": "ok",
          "timestamp": 1520693212643,
          "user_tz": -60,
          "elapsed": 430,
          "user": {
            "displayName": "Nichita Diaconu",
            "photoUrl": "//lh4.googleusercontent.com/-L_14SnBPff8/AAAAAAAAAAI/AAAAAAAABU4/ZCpNHv6ApOg/s50-c-k-no/photo.jpg",
            "userId": "108913819228217065637"
          }
        }
      },
      "cell_type": "code",
      "source": [
        "def binary_search_leftmost_index(array, value, start, stop):\n",
        "    while start < stop:\n",
        "        mid = int((start + stop) / 2)\n",
        "        if value <= array[mid]:\n",
        "            stop = mid\n",
        "        else:\n",
        "            start = mid + 1\n",
        "    return start\n",
        "\n",
        "a = [1,3,5]\n",
        "ordered_result = []\n",
        "for i in range(8):\n",
        "  ordered_result.append(binary_search_leftmost_index(a, i, 0, len(a)))\n",
        "print(ordered_result)"
      ],
      "execution_count": 228,
      "outputs": [
        {
          "output_type": "stream",
          "text": [
            "[0, 0, 1, 1, 2, 2, 3, 3]\n"
          ],
          "name": "stdout"
        }
      ]
    },
    {
      "metadata": {
        "id": "u_8_k6gq71IM",
        "colab_type": "code",
        "colab": {
          "autoexec": {
            "startup": false,
            "wait_interval": 0
          }
        }
      },
      "cell_type": "code",
      "source": [
        "class CarsRepo:\n",
        "    def __init__(self, cars_list):\n",
        "        #give them at moment 0 when they are all 0\n",
        "        self.cars = cars_list\n",
        "    \n",
        "    def add_ride_to_car(self, ride):\n",
        "        #type ride: Ride\n",
        "        \n",
        "        # if BONUS possible, car that arrives to start position the closest in time to the start time of the ride\n",
        "        # else, choose car that arrives to start position as soon as possible\n",
        "        # if this is still too l1ate and that wouldn't give any points return\n",
        "        \n",
        "        start_position = ride.start\n",
        "        start_time = ride.earliestStart\n",
        "        latest_start = ride.latestStart\n",
        "        \n",
        "        bonus_closest_car = None\n",
        "        nonbonus_closest_car = None\n",
        "        best_time_arrival = None\n",
        "        #best_time_arrival: 0 if the car can arrive on time or before;\n",
        "        # the time from start_time to car arrival time otherwise\n",
        "        for car in self.cars:\n",
        "#           #Crazy with closest to 0\n",
        "#             arrival_time = car.freeAtTime + start_position.calculateDistance(car.currentPosition)\n",
        "#             if arrival_time <= start_time:\n",
        "#                 if bonus_closest_car != None:\n",
        "#                     if best_time_arrival < arrival_time:\n",
        "#                         best_time_arrival = arrival_time\n",
        "#                         bonus_closest_car = car\n",
        "#                 else:\n",
        "#                     bonus_closest_car = car\n",
        "#                     best_time_arrival = 0\n",
        "#             else:\n",
        "#                 candidate = arrival_time - start_time \n",
        "#                 if arrival_time <= latest_start and (best_time_arrival is None or candidate < best_time_arrival):\n",
        "#                     best_time_arrival = candidate\n",
        "#                     nonbonus_closest_car = car\n",
        "            \n",
        "            #assign to closest car\n",
        "            arrival_time = car.freeAtTime + start_position.calculateDistance(car.currentPosition)\n",
        "            candidate = start_position.calculateDistance(car.currentPosition)\n",
        "    \n",
        "            if arrival_time <= start_time:\n",
        "                if bonus_closest_car != None:\n",
        "                    if candidate < best_time_arrival:\n",
        "                        best_time_arrival = arrival_time\n",
        "                        bonus_closest_car = car\n",
        "                else:\n",
        "                    bonus_closest_car = car\n",
        "                    best_time_arrival = candidate\n",
        "            else:\n",
        "                if arrival_time <=latest_start and (best_time_arrival is None or candidate < best_time_arrival):\n",
        "                    best_time_arrival = candidate\n",
        "                    nonbonus_closest_car = car\n",
        "       \n",
        "        if bonus_closest_car is not None:\n",
        "            bonus_closest_car.add_ride(ride)\n",
        "        elif nonbonus_closest_car is not None:\n",
        "            nonbonus_closest_car.add_ride(ride)\n",
        "   \n",
        "    def __str__(self):\n",
        "        r = \"\"\n",
        "        \n",
        "        for idx,car in enumerate(self.cars):\n",
        "            #r += str(len(car.assignedRides)) + \" \" + \" \".join([str(x) for x in car.assignedRides]) + \"\\n\"\n",
        "            r += str(car) + '\\n'\n",
        "        return r"
      ],
      "execution_count": 0,
      "outputs": []
    },
    {
      "metadata": {
        "id": "pZSGvf35FNam",
        "colab_type": "code",
        "colab": {
          "autoexec": {
            "startup": false,
            "wait_interval": 0
          }
        }
      },
      "cell_type": "code",
      "source": [
        "class RidesRepo:\n",
        "    def __init__(self):\n",
        "        self.rides = []\n",
        "    \n",
        "    def bs_left_index_rides(self, time, start, stop):\n",
        "        #gets position in array closest to time \n",
        "        while start < stop:\n",
        "            mid = int((start + stop) / 2)\n",
        "            if time <= self.rides[mid].earliestStart:\n",
        "                stop = mid\n",
        "            else:\n",
        "                start = mid + 1\n",
        "        return start\n",
        "            \n",
        "    def add_ride(self, ride):\n",
        "        #Modify earliest_start to latest_start\n",
        "        #insertion_idx = self.bs_left_index_rides(ride.latestStart, 0, len(self.rides))\n",
        "        \n",
        "        \n",
        "        insertion_idx = self.bs_left_index_rides(ride.earliestStart, 0, len(self.rides))\n",
        "\n",
        "#        aux_idx = insertion_idx    \n",
        "#         while aux_idx < len(self.rides) - 1 and self.rides[aux_idx].earliestStart == self.rides[insertion_idx].earliestStart and self.rides[aux_idx].duration > self.rides[aux_idx + 1].duration:\n",
        "#             aux_idx += 1\n",
        "#         insertion_idx = aux_idx\n",
        "        \n",
        "        if insertion_idx == len(self.rides):\n",
        "            self.rides.append(ride)\n",
        "        else:\n",
        "            self.rides.insert(insertion_idx, ride)\n",
        "    \n",
        "    def __str__(self):\n",
        "        s = \"\"\n",
        "        for ride in self.rides:\n",
        "            s += str(ride) + '\\n'\n",
        "        return s"
      ],
      "execution_count": 0,
      "outputs": []
    },
    {
      "metadata": {
        "id": "SSlD4WlKXxhb",
        "colab_type": "code",
        "colab": {
          "autoexec": {
            "startup": false,
            "wait_interval": 0
          }
        }
      },
      "cell_type": "code",
      "source": [
        "class Test:\n",
        "    \n",
        "    @staticmethod\n",
        "    def test_cars_can_deliver_in_time(carsRepo):\n",
        "        for car in carsRepo.cars:\n",
        "            assert Test.check_assigned_list(car) == 1\n",
        "        #print('Tests passed')\n",
        "    \n",
        "    @staticmethod\n",
        "    def check_assigned_list(car):\n",
        "        # do a thing like in the simulation\n",
        "        last_pos = Coordinate(0, 0)\n",
        "        time = 0\n",
        "        success = 1\n",
        "        for ride in car.assignedRides:\n",
        "            \n",
        "            distance_to = last_pos.calculateDistance(ride.start)\n",
        "            if time + distance_to <= ride.earliestStart:\n",
        "                start = ride.earliestStart\n",
        "            else:\n",
        "                start = time + distance_to\n",
        "            \n",
        "            distance_of = ride.duration\n",
        "\n",
        "            if start + distance_of > ride.latestEnd:\n",
        "                success = 0\n",
        "\n",
        "            time = start + distance_of\n",
        "            last_pos = ride.end\n",
        "        return success"
      ],
      "execution_count": 0,
      "outputs": []
    },
    {
      "metadata": {
        "id": "sm5Lb3VsHdWC",
        "colab_type": "code",
        "colab": {
          "autoexec": {
            "startup": false,
            "wait_interval": 0
          }
        }
      },
      "cell_type": "code",
      "source": [
        "if __name__ == \"__main__\":\n",
        "    #READ\n",
        "    rows, columns, cars, rides = get_input(files_local_names[0])\n",
        "    \n",
        "    \n",
        "    #INITIALIZE\n",
        "    ridesRepo = RidesRepo()\n",
        "    for ride in rides:\n",
        "        ridesRepo.add_ride(ride)\n",
        "    \n",
        "    #print(ridesRepo)\n",
        "    carsRepo = CarsRepo(cars)\n",
        "    \n",
        "    \n",
        "    #SOLVE\n",
        "    for ride in ridesRepo.rides:\n",
        "        carsRepo.add_ride_to_car(ride)\n",
        "        #print(carsRepo)\n",
        "    \n",
        "    #TEST\n",
        "    Test.test_cars_can_deliver_in_time(carsRepo)\n",
        "    \n",
        "    #RESULT\n",
        "    for car in carsRepo.cars:\n",
        "        print(str(len(car.assignedRides)) + ' ' + ' '.join([str(ride.ride_id) for ride in car.assignedRides]))"
      ],
      "execution_count": 0,
      "outputs": []
    },
    {
      "metadata": {
        "id": "oGSNaLMoX4Jj",
        "colab_type": "code",
        "colab": {
          "autoexec": {
            "startup": false,
            "wait_interval": 0
          }
        }
      },
      "cell_type": "code",
      "source": [
        ""
      ],
      "execution_count": 0,
      "outputs": []
    }
  ]
}
